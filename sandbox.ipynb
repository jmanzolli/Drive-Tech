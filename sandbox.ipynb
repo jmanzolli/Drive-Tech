{
 "cells": [
  {
   "cell_type": "code",
   "execution_count": null,
   "metadata": {},
   "outputs": [],
   "source": [
    "from functions import *"
   ]
  },
  {
   "cell_type": "code",
   "execution_count": null,
   "metadata": {},
   "outputs": [],
   "source": [
    "file='input.xlsx'"
   ]
  },
  {
   "cell_type": "code",
   "execution_count": null,
   "metadata": {},
   "outputs": [],
   "source": [
    "data = read_file(file)\n",
    "model = setModel(data,time_limit=60,mipgap=0,solver='gurobi',status=True)\n",
    "plot(model)"
   ]
  },
  {
   "cell_type": "code",
   "execution_count": null,
   "metadata": {},
   "outputs": [],
   "source": [
    "value = []\n",
    "for n in model.N:\n",
    "    for t in model.T:\n",
    "        value.append(pyo.value(sum(model.x[k,n,t] for k in model.K)))\n",
    "# Convert the list to a numpy array\n",
    "array_charger = np.array(value)\n",
    "# Reshape the array to 96 rows and 10 columns\n",
    "reshaped_array = array_charger.reshape(10, 96)\n",
    "final_charger = reshaped_array.T\n",
    "# Column names for the chargers\n",
    "charger_columns = [f'Charger {i}' for i in range(1, 97)]\n",
    "# Convert the transposed array to a DataFrame\n",
    "df_charger = pd.DataFrame(final_charger, index=model.T,columns=charger_columns[:final_charger.shape[1]])\n",
    "df_charger\n"
   ]
  },
  {
   "cell_type": "code",
   "execution_count": null,
   "metadata": {},
   "outputs": [],
   "source": [
    "import numpy as np\n",
    "import pandas as pd\n",
    "import pyomo.environ as pyo\n",
    "\n",
    "# Extract values from the model\n",
    "value = []\n",
    "for k in model.K:\n",
    "    for n in model.N:\n",
    "        for t in model.T:\n",
    "            value.append((k, n, t, pyo.value(model.x[k, n, t])))\n",
    "\n",
    "# Convert the list to a DataFrame\n",
    "df = pd.DataFrame(value, columns=['Bus', 'Charger', 'Time', 'Charging_Status'])\n",
    "\n",
    "# Filter to include only charging events (Charging_Status == 1)\n",
    "df_charging = df[df['Charging_Status'] == 1]\n"
   ]
  }
 ],
 "metadata": {
  "kernelspec": {
   "display_name": "bus_charging_app",
   "language": "python",
   "name": "python3"
  },
  "language_info": {
   "codemirror_mode": {
    "name": "ipython",
    "version": 3
   },
   "file_extension": ".py",
   "mimetype": "text/x-python",
   "name": "python",
   "nbconvert_exporter": "python",
   "pygments_lexer": "ipython3",
   "version": "3.9.15"
  }
 },
 "nbformat": 4,
 "nbformat_minor": 2
}
