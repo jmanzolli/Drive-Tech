{
 "cells": [
  {
   "cell_type": "code",
   "execution_count": null,
   "metadata": {},
   "outputs": [],
   "source": [
    "import numpy as np\n",
    "import pandas as pd\n",
    "import pyomo.environ as pyo\n",
    "from functions import *"
   ]
  },
  {
   "cell_type": "code",
   "execution_count": 6,
   "metadata": {},
   "outputs": [
    {
     "name": "stdout",
     "output_type": "stream",
     "text": [
      "     0     0  234.93605    0  220  241.24109  234.93605  2.61%     -   46s\n",
      "     0     0  234.93605    0  237  241.24109  234.93605  2.61%     -   46s\n",
      "     0     0  234.93605    0  255  241.24109  234.93605  2.61%     -   47s\n",
      "     0     0  234.93605    0  364  241.24109  234.93605  2.61%     -   47s\n",
      "     0     0  234.93605    0  287  241.24109  234.93605  2.61%     -   47s\n",
      "     0     0  234.93605    0  475  241.24109  234.93605  2.61%     -   48s\n",
      "     0     0  234.93605    0  259  241.24109  234.93605  2.61%     -   48s\n",
      "     0     0  234.93605    0  208  241.24109  234.93605  2.61%     -   49s\n",
      "     0     2  234.93605    0  202  241.24109  234.93605  2.61%     -   49s\n",
      "     1     5  235.34745    1  159  241.24109  235.34745  2.44%  1630   50s\n",
      "   110   156  235.53757   15  222  241.24109  235.53757  2.36%   378   55s\n",
      "   357   342  235.53801   30  250  241.24109  235.53757  2.36%   372   60s\n",
      "\n",
      "Cutting planes:\n",
      "  Gomory: 20\n",
      "  Cover: 371\n",
      "  Implied bound: 48\n",
      "  Clique: 4\n",
      "  MIR: 208\n",
      "  StrongCG: 32\n",
      "  GUB cover: 14\n",
      "  Zero half: 30\n",
      "  RLT: 114\n",
      "  Relax-and-lift: 12\n",
      "\n",
      "Explored 392 nodes (337963 simplex iterations) in 60.02 seconds (94.47 work units)\n",
      "Thread count was 8 (of 8 available processors)\n",
      "\n",
      "Solution count 5: 241.241 241.271 241.437 ... 256.644\n",
      "\n",
      "Time limit reached\n",
      "Best objective 2.412410885559e+02, best bound 2.355375666213e+02, gap 2.3642%\n",
      "WARNING: Loading a SolverResults object with an 'aborted' status, but\n",
      "containing a solution\n",
      "The objective function values is: 241.24108855585828\n"
     ]
    }
   ],
   "source": [
    "data = read_file()\n",
    "model = setModel(data,time_limit=60,mipgap=None,solver='gurobi',status=True)"
   ]
  },
  {
   "cell_type": "code",
   "execution_count": 8,
   "metadata": {},
   "outputs": [],
   "source": [
    "from datetime import timedelta"
   ]
  },
  {
   "cell_type": "code",
   "execution_count": 10,
   "metadata": {},
   "outputs": [],
   "source": [
    "def charger_(N, T, K, x):\n",
    "    # Initial value extraction from model\n",
    "    value = []\n",
    "    for n in N:\n",
    "        for t in T:\n",
    "            value.append(pyo.value(sum(x[k, n, t] for k in K)))\n",
    "\n",
    "    # Convert the list to a numpy array\n",
    "    array_charger = np.array(value)\n",
    "\n",
    "    # Reshape the array to 10 chargers and 96 timesteps\n",
    "    reshaped_array = array_charger.reshape(len(N), len(T))\n",
    "\n",
    "    # Create DataFrame with the original 15-minute intervals\n",
    "    charger_columns = [f'Charger {i+1}' for i in range(len(N))]\n",
    "    df_charger = pd.DataFrame(reshaped_array.T, index=T, columns=charger_columns)\n",
    "    \n",
    "    # Extract values from the model\n",
    "    value = []\n",
    "    for k in K:\n",
    "        for n in N:\n",
    "            for t in T:\n",
    "                # Convert time step to hour:minutes format\n",
    "                time_str = str(timedelta(minutes=t * 15))\n",
    "                time_str = time_str[:-3]  # remove seconds part\n",
    "                value.append((k, n, time_str, pyo.value(x[k, n, t])))\n",
    "\n",
    "    # Convert the list to a DataFrame\n",
    "    df = pd.DataFrame(value, columns=['Bus', 'Charger', 'Time', 'Charging_Status'])\n",
    "    \n",
    "    # Filter to include only charging events (Charging_Status == 1)\n",
    "    df_charging = df[df['Charging_Status'] == 1]\n",
    "    \n",
    "    return df_charger, df_charging"
   ]
  },
  {
   "cell_type": "code",
   "execution_count": 11,
   "metadata": {},
   "outputs": [],
   "source": [
    "def save(model):\n",
    "    #Calculate energy\n",
    "    Energy,Energy_perc = energy_bus(model.K, model.T, model.e, model.C_bat)\n",
    "    #Calculate power buy\n",
    "    Power = power(model.T, model.w_buy) * 4\n",
    "    #Calculate the charger engaged\n",
    "    Chargers_enabled, Chargers_assigned = charger_(model.N, model.T, model.K, model.x)\n",
    "    #Calculate objective function value\n",
    "    Obj = pd.DataFrame({'Objective Value': [model.obj()]})\n",
    "    #Save data to Excel with the name of t_start\n",
    "    with pd.ExcelWriter('output.xlsx') as writer:  \n",
    "        Energy.to_excel(writer, sheet_name='Energy')\n",
    "        Energy_perc.to_excel(writer, sheet_name='SOC')\n",
    "        Power.to_excel(writer, sheet_name='Power')\n",
    "        Chargers_enabled.to_excel(writer, sheet_name='Charger Enabled')\n",
    "        Chargers_assigned.to_excel(writer, sheet_name='Charger Assigned')\n",
    "        Obj.to_excel(writer, sheet_name='Optimal value')\n",
    "    print('The outputs are saved')"
   ]
  },
  {
   "cell_type": "code",
   "execution_count": 12,
   "metadata": {},
   "outputs": [
    {
     "name": "stdout",
     "output_type": "stream",
     "text": [
      "The outputs are saved\n"
     ]
    }
   ],
   "source": [
    "save(model)"
   ]
  },
  {
   "cell_type": "code",
   "execution_count": null,
   "metadata": {},
   "outputs": [],
   "source": []
  }
 ],
 "metadata": {
  "kernelspec": {
   "display_name": "bus_charging_app",
   "language": "python",
   "name": "python3"
  },
  "language_info": {
   "codemirror_mode": {
    "name": "ipython",
    "version": 3
   },
   "file_extension": ".py",
   "mimetype": "text/x-python",
   "name": "python",
   "nbconvert_exporter": "python",
   "pygments_lexer": "ipython3",
   "version": "3.9.15"
  }
 },
 "nbformat": 4,
 "nbformat_minor": 2
}
